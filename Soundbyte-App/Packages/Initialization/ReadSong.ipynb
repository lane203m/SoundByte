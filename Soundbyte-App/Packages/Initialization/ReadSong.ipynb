{
 "cells": [
  {
   "cell_type": "code",
   "execution_count": 49,
   "metadata": {},
   "outputs": [],
   "source": [
    "from eyed3 import id3\n",
    "import os\n",
    "from mutagen.mp3 import MP3\n",
    "import mutagen"
   ]
  },
  {
   "cell_type": "code",
   "execution_count": 27,
   "metadata": {},
   "outputs": [
    {
     "name": "stdout",
     "output_type": "stream",
     "text": [
      "<eyed3.mp3.Mp3AudioFile object at 0x00000224315D29C8>\n",
      "None\n",
      "None\n",
      "<eyed3.mp3.Mp3AudioFile object at 0x00000224314744C8>\n",
      "None\n",
      "(52)Electronic\n",
      "<eyed3.mp3.Mp3AudioFile object at 0x00000224315A8348>\n",
      "None\n",
      "None\n"
     ]
    }
   ],
   "source": [
    "rootDir = \"D:/userMason/Documents/GitHub/SoundByte/Soundbyte-App/Packages/Library\"\n",
    "#files = os.walk(roodDir)\n",
    "for root, dirs, files in os.walk(rootDir, topdown=False):\n",
    "    for name in files:\n",
    "        fileName = os.path.join(root, name)\n",
    "        audiofile = eyed3.load(fileName)\n",
    "        print(audiofile)\n",
    "        #print(audiofile.tag.tempo)\n",
    "        print(audiofile.tag.bpm)\n",
    "        print(audiofile.tag.genre)\n",
    "    for name in dirs:\n",
    "        print(os.path.join(root, name))\n",
    "\n"
   ]
  },
  {
   "cell_type": "code",
   "execution_count": 35,
   "metadata": {},
   "outputs": [
    {
     "name": "stdout",
     "output_type": "stream",
     "text": [
      "<eyed3.mp3.Mp3AudioFile object at 0x00000224315A83C8>\n",
      "<eyed3.id3.tag.Tag object at 0x000002243149E648>\n",
      "Broke For Free\n",
      "None\n",
      "Electronic\n"
     ]
    }
   ],
   "source": [
    "audiofile = eyed3.load(\"../Library/Broke_For_Free_-_01_-_Night_Owl.mp3\")\n",
    "print(audiofile)\n",
    "print(audiofile.tag)\n",
    "print(audiofile.tag.artist)\n",
    "#audiofile.tag.artist = \"Token Entry\"\n",
    "#audiofile.tag.album = \"Free For All Comp LP\"\n",
    "#audiofile.tag.album_artist = \"Various Artists\"\n",
    "#audiofile.tag.title = \"The Edge\"\n",
    "#audiofile.tag.track_num = 3\n",
    "#udiofile.tag.tempo = 3\n",
    "#rint(audiofile.tag.tempo)\n",
    "print(audiofile.tag.bpm)\n",
    "print(audiofile.tag.genre.name)\n",
    "#audiofile.tag.save()"
   ]
  },
  {
   "cell_type": "code",
   "execution_count": 36,
   "metadata": {},
   "outputs": [
    {
     "name": "stdout",
     "output_type": "stream",
     "text": [
      "None\n"
     ]
    }
   ],
   "source": [
    "tag = id3.Tag()\n",
    "tag.parse(\"../Library/MkTg6x5EgtgC0bcRJ5BMcvMbTtoNjaGgH8vjGjpT.mp3\")\n",
    "\n",
    "print(tag.bpm)"
   ]
  },
  {
   "cell_type": "code",
   "execution_count": 39,
   "metadata": {},
   "outputs": [
    {
     "data": {
      "text/plain": [
       "<eyed3.id3.Genre at 0x224315dff88>"
      ]
     },
     "execution_count": 39,
     "metadata": {},
     "output_type": "execute_result"
    }
   ],
   "source": [
    "genreMap = id3.GenreMap()\n",
    "genreMap.get(32)"
   ]
  },
  {
   "cell_type": "code",
   "execution_count": 48,
   "metadata": {},
   "outputs": [
    {
     "name": "stdout",
     "output_type": "stream",
     "text": [
      "{'sketchy': False, 'length': 169.42308390022677, 'frame_offset': 61450, 'mode': 1, 'channels': 2, 'version': 1, 'layer': 3, 'protected': False, 'padding': False, 'bitrate': 320000, 'sample_rate': 44100, 'bitrate_mode': <BitrateMode.CBR: 1>, 'encoder_settings': '-b 320', 'encoder_info': 'LAME 3.99.1+', 'track_gain': -7.2, 'track_peak': None, 'album_gain': None}\n"
     ]
    }
   ],
   "source": [
    "audio = MP3(\"../Library/MkTg6x5EgtgC0bcRJ5BMcvMbTtoNjaGgH8vjGjpT.mp3\")\n",
    "print(audio.info.__dict__)"
   ]
  },
  {
   "cell_type": "code",
   "execution_count": 66,
   "metadata": {},
   "outputs": [
    {
     "ename": "KeyError",
     "evalue": "'GENRE'",
     "output_type": "error",
     "traceback": [
      "\u001b[1;31m---------------------------------------------------------------------------\u001b[0m",
      "\u001b[1;31mKeyError\u001b[0m                                  Traceback (most recent call last)",
      "\u001b[1;32m<ipython-input-66-a14bd2f47124>\u001b[0m in \u001b[0;36m<module>\u001b[1;34m\u001b[0m\n\u001b[0;32m      1\u001b[0m \u001b[0maudio\u001b[0m \u001b[1;33m=\u001b[0m \u001b[0mmutagen\u001b[0m\u001b[1;33m.\u001b[0m\u001b[0mFile\u001b[0m\u001b[1;33m(\u001b[0m\u001b[1;34m\"../Library/MkTg6x5EgtgC0bcRJ5BMcvMbTtoNjaGgH8vjGjpT.mp3\"\u001b[0m\u001b[1;33m)\u001b[0m\u001b[1;33m\u001b[0m\u001b[1;33m\u001b[0m\u001b[0m\n\u001b[1;32m----> 2\u001b[1;33m \u001b[0mprint\u001b[0m\u001b[1;33m(\u001b[0m\u001b[0maudio\u001b[0m\u001b[1;33m[\u001b[0m\u001b[1;34m'GENRE'\u001b[0m\u001b[1;33m]\u001b[0m\u001b[1;33m)\u001b[0m\u001b[1;33m\u001b[0m\u001b[1;33m\u001b[0m\u001b[0m\n\u001b[0m",
      "\u001b[1;32m~\\Anaconda3\\lib\\site-packages\\mutagen\\_file.py\u001b[0m in \u001b[0;36m__getitem__\u001b[1;34m(self, key)\u001b[0m\n\u001b[0;32m     61\u001b[0m             \u001b[1;32mraise\u001b[0m \u001b[0mKeyError\u001b[0m\u001b[1;33m(\u001b[0m\u001b[0mkey\u001b[0m\u001b[1;33m)\u001b[0m\u001b[1;33m\u001b[0m\u001b[1;33m\u001b[0m\u001b[0m\n\u001b[0;32m     62\u001b[0m         \u001b[1;32melse\u001b[0m\u001b[1;33m:\u001b[0m\u001b[1;33m\u001b[0m\u001b[1;33m\u001b[0m\u001b[0m\n\u001b[1;32m---> 63\u001b[1;33m             \u001b[1;32mreturn\u001b[0m \u001b[0mself\u001b[0m\u001b[1;33m.\u001b[0m\u001b[0mtags\u001b[0m\u001b[1;33m[\u001b[0m\u001b[0mkey\u001b[0m\u001b[1;33m]\u001b[0m\u001b[1;33m\u001b[0m\u001b[1;33m\u001b[0m\u001b[0m\n\u001b[0m\u001b[0;32m     64\u001b[0m \u001b[1;33m\u001b[0m\u001b[0m\n\u001b[0;32m     65\u001b[0m     \u001b[1;32mdef\u001b[0m \u001b[0m__setitem__\u001b[0m\u001b[1;33m(\u001b[0m\u001b[0mself\u001b[0m\u001b[1;33m,\u001b[0m \u001b[0mkey\u001b[0m\u001b[1;33m,\u001b[0m \u001b[0mvalue\u001b[0m\u001b[1;33m)\u001b[0m\u001b[1;33m:\u001b[0m\u001b[1;33m\u001b[0m\u001b[1;33m\u001b[0m\u001b[0m\n",
      "\u001b[1;32m~\\Anaconda3\\lib\\site-packages\\mutagen\\_util.py\u001b[0m in \u001b[0;36m__getitem__\u001b[1;34m(self, key)\u001b[0m\n\u001b[0;32m    535\u001b[0m \u001b[1;33m\u001b[0m\u001b[0m\n\u001b[0;32m    536\u001b[0m     \u001b[1;32mdef\u001b[0m \u001b[0m__getitem__\u001b[0m\u001b[1;33m(\u001b[0m\u001b[0mself\u001b[0m\u001b[1;33m,\u001b[0m \u001b[0mkey\u001b[0m\u001b[1;33m)\u001b[0m\u001b[1;33m:\u001b[0m\u001b[1;33m\u001b[0m\u001b[1;33m\u001b[0m\u001b[0m\n\u001b[1;32m--> 537\u001b[1;33m         \u001b[1;32mreturn\u001b[0m \u001b[0mself\u001b[0m\u001b[1;33m.\u001b[0m\u001b[0m__dict\u001b[0m\u001b[1;33m[\u001b[0m\u001b[0mkey\u001b[0m\u001b[1;33m]\u001b[0m\u001b[1;33m\u001b[0m\u001b[1;33m\u001b[0m\u001b[0m\n\u001b[0m\u001b[0;32m    538\u001b[0m \u001b[1;33m\u001b[0m\u001b[0m\n\u001b[0;32m    539\u001b[0m     \u001b[1;32mdef\u001b[0m \u001b[0m__setitem__\u001b[0m\u001b[1;33m(\u001b[0m\u001b[0mself\u001b[0m\u001b[1;33m,\u001b[0m \u001b[0mkey\u001b[0m\u001b[1;33m,\u001b[0m \u001b[0mvalue\u001b[0m\u001b[1;33m)\u001b[0m\u001b[1;33m:\u001b[0m\u001b[1;33m\u001b[0m\u001b[1;33m\u001b[0m\u001b[0m\n",
      "\u001b[1;31mKeyError\u001b[0m: 'GENRE'"
     ]
    }
   ],
   "source": [
    "audio = mutagen.File(\"../Library/MkTg6x5EgtgC0bcRJ5BMcvMbTtoNjaGgH8vjGjpT.mp3\")\n",
    "print(audio['GENRE'])"
   ]
  },
  {
   "cell_type": "code",
   "execution_count": null,
   "metadata": {},
   "outputs": [],
   "source": []
  }
 ],
 "metadata": {
  "kernelspec": {
   "display_name": "Python 3",
   "language": "python",
   "name": "python3"
  },
  "language_info": {
   "codemirror_mode": {
    "name": "ipython",
    "version": 3
   },
   "file_extension": ".py",
   "mimetype": "text/x-python",
   "name": "python",
   "nbconvert_exporter": "python",
   "pygments_lexer": "ipython3",
   "version": "3.7.4"
  }
 },
 "nbformat": 4,
 "nbformat_minor": 2
}
