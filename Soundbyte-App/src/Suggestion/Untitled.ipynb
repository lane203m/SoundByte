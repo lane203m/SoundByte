{
 "cells": [
  {
   "cell_type": "code",
   "execution_count": 2,
   "metadata": {},
   "outputs": [],
   "source": [
    "import sys\n",
    "\n",
    "thisdict = {\n",
    "    \"songs\": [\n",
    "        {\n",
    "            \"songName\": \"song1New\",\n",
    "            \"author\": \"auth1\",\n",
    "            \"features\": {\n",
    "                \"bpm\": 100,\n",
    "                \"key\": \"A\",\n",
    "                \"scale\": \"Minor\" \n",
    "            }\n",
    "        },\n",
    "        {\n",
    "            \"songName\": \"song2New\",\n",
    "            \"author\": \"auth2\",\n",
    "            \"features\": {\n",
    "                \"bpm\": 200,\n",
    "                \"key\": \"B\",\n",
    "                \"scale\": \"Major\" \n",
    "            }\n",
    "        },\n",
    "        {\n",
    "            \"songName\": \"song3New\",\n",
    "            \"author\": \"auth3\",\n",
    "            \"features\": {\n",
    "                \"bpm\": 300,\n",
    "                \"key\": \"C\",\n",
    "                \"scale\": \"Minor\" \n",
    "            }\n",
    "        }\n",
    "\n",
    "    ]\n",
    "\n",
    "\n",
    "}\n",
    "\n"
   ]
  },
  {
   "cell_type": "code",
   "execution_count": 3,
   "metadata": {},
   "outputs": [
    {
     "name": "stdout",
     "output_type": "stream",
     "text": [
      "{'songs': [{'songName': 'song1New', 'author': 'auth1', 'features': {'bpm': 100, 'key': 'A', 'scale': 'Minor'}}, {'songName': 'song2New', 'author': 'auth2', 'features': {'bpm': 200, 'key': 'B', 'scale': 'Major'}}, {'songName': 'song3New', 'author': 'auth3', 'features': {'bpm': 300, 'key': 'C', 'scale': 'Minor'}}]}\n"
     ]
    }
   ],
   "source": [
    "print(thisdict)\n"
   ]
  },
  {
   "cell_type": "code",
   "execution_count": 4,
   "metadata": {},
   "outputs": [],
   "source": [
    "sys.stdout.flush()"
   ]
  },
  {
   "cell_type": "code",
   "execution_count": null,
   "metadata": {},
   "outputs": [],
   "source": []
  }
 ],
 "metadata": {
  "kernelspec": {
   "display_name": "Python 3",
   "language": "python",
   "name": "python3"
  },
  "language_info": {
   "codemirror_mode": {
    "name": "ipython",
    "version": 3
   },
   "file_extension": ".py",
   "mimetype": "text/x-python",
   "name": "python",
   "nbconvert_exporter": "python",
   "pygments_lexer": "ipython3",
   "version": "3.7.4"
  }
 },
 "nbformat": 4,
 "nbformat_minor": 2
}
