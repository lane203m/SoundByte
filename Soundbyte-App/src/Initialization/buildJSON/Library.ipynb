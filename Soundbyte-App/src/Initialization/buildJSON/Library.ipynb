{
 "cells": [
  {
   "cell_type": "code",
   "execution_count": 7,
   "metadata": {},
   "outputs": [],
   "source": [
    "import sys\n",
    "import json\n",
    "import eyed3\n",
    "import os\n",
    "\n",
    "song = {\n",
    "      'artist': '',\n",
    "      'bpm': '',\n",
    "      'genre': ''\n",
    "    }\n",
    "songLibrary = []\n",
    "\n",
    "def buildLibrary():\n",
    "    print(\"Command executed from Python script\")\n",
    "    sys.stdout.flush()\n",
    "        \n",
    "def readLibrary():\n",
    "    rootDir = \"D:/userMason/Documents/GitHub/SoundByte/Soundbyte-App/Library\"\n",
    "    #files = os.walk(roodDir)\n",
    "    for root, dirs, files in os.walk(rootDir, topdown=False):\n",
    "        for name in files:\n",
    "            fileName = os.path.join(root, name)\n",
    "            audiofile = eyed3.load(fileName)\n",
    "            artist = audiofile.tag.artist\n",
    "            bpm = audiofile.tag.bpm\n",
    "            #genre = audiofile.tag.genre\n",
    "            print(audiofile.tag.artist)\n",
    "            #print(audiofile.GenreMap())\n",
    "            #print(audiofile.tag.tempo)\n",
    "            print(audiofile.tag.bpm)\n",
    "            print(audiofile.tag.genre.name)\n",
    "            song = {'artist': artist, 'bpm': bpm, 'genre': genre}\n",
    "            \n",
    "            songLibrary.append(song)\n",
    "            print(len(songLibrary))\n",
    "            print('')\n",
    "            print('g')\n",
    "            #print(songLibrary[2]['genre'])\n",
    "            #print(songLibrary[2]['bpm'])\n",
    "            #print(songLibrary[2]['artist'])\n",
    "            print('g')\n",
    "            print('')\n",
    "    for i in songLibrary:\n",
    "        print(i)\n",
    "        \n",
    "    \n",
    "def writeJSON():\n",
    "    print(\"Command executed from Python script\")\n",
    "    sys.stdout.flush()        \n",
    "def readJSON():\n",
    "    print(\"Command executed from Python script\")\n",
    "    sys.stdout.flush()"
   ]
  },
  {
   "cell_type": "code",
   "execution_count": 8,
   "metadata": {},
   "outputs": [
    {
     "name": "stdout",
     "output_type": "stream",
     "text": [
      "AC-DC\n",
      "None\n",
      "Rock\n"
     ]
    },
    {
     "ename": "NameError",
     "evalue": "name 'genre' is not defined",
     "output_type": "error",
     "traceback": [
      "\u001b[1;31m---------------------------------------------------------------------------\u001b[0m",
      "\u001b[1;31mNameError\u001b[0m                                 Traceback (most recent call last)",
      "\u001b[1;32m<ipython-input-8-ebea36f58a8c>\u001b[0m in \u001b[0;36m<module>\u001b[1;34m\u001b[0m\n\u001b[1;32m----> 1\u001b[1;33m \u001b[0mreadLibrary\u001b[0m\u001b[1;33m(\u001b[0m\u001b[1;33m)\u001b[0m\u001b[1;33m\u001b[0m\u001b[1;33m\u001b[0m\u001b[0m\n\u001b[0m",
      "\u001b[1;32m<ipython-input-7-7c91788dfa7d>\u001b[0m in \u001b[0;36mreadLibrary\u001b[1;34m()\u001b[0m\n\u001b[0;32m     30\u001b[0m             \u001b[0mprint\u001b[0m\u001b[1;33m(\u001b[0m\u001b[0maudiofile\u001b[0m\u001b[1;33m.\u001b[0m\u001b[0mtag\u001b[0m\u001b[1;33m.\u001b[0m\u001b[0mbpm\u001b[0m\u001b[1;33m)\u001b[0m\u001b[1;33m\u001b[0m\u001b[1;33m\u001b[0m\u001b[0m\n\u001b[0;32m     31\u001b[0m             \u001b[0mprint\u001b[0m\u001b[1;33m(\u001b[0m\u001b[0maudiofile\u001b[0m\u001b[1;33m.\u001b[0m\u001b[0mtag\u001b[0m\u001b[1;33m.\u001b[0m\u001b[0mgenre\u001b[0m\u001b[1;33m.\u001b[0m\u001b[0mname\u001b[0m\u001b[1;33m)\u001b[0m\u001b[1;33m\u001b[0m\u001b[1;33m\u001b[0m\u001b[0m\n\u001b[1;32m---> 32\u001b[1;33m             \u001b[0msong\u001b[0m \u001b[1;33m=\u001b[0m \u001b[1;33m{\u001b[0m\u001b[1;34m'artist'\u001b[0m\u001b[1;33m:\u001b[0m \u001b[0martist\u001b[0m\u001b[1;33m,\u001b[0m \u001b[1;34m'bpm'\u001b[0m\u001b[1;33m:\u001b[0m \u001b[0mbpm\u001b[0m\u001b[1;33m,\u001b[0m \u001b[1;34m'genre'\u001b[0m\u001b[1;33m:\u001b[0m \u001b[0mgenre\u001b[0m\u001b[1;33m}\u001b[0m\u001b[1;33m\u001b[0m\u001b[1;33m\u001b[0m\u001b[0m\n\u001b[0m\u001b[0;32m     33\u001b[0m \u001b[1;33m\u001b[0m\u001b[0m\n\u001b[0;32m     34\u001b[0m             \u001b[0msongLibrary\u001b[0m\u001b[1;33m.\u001b[0m\u001b[0mappend\u001b[0m\u001b[1;33m(\u001b[0m\u001b[0msong\u001b[0m\u001b[1;33m)\u001b[0m\u001b[1;33m\u001b[0m\u001b[1;33m\u001b[0m\u001b[0m\n",
      "\u001b[1;31mNameError\u001b[0m: name 'genre' is not defined"
     ]
    }
   ],
   "source": [
    "readLibrary()"
   ]
  },
  {
   "cell_type": "code",
   "execution_count": null,
   "metadata": {},
   "outputs": [],
   "source": []
  },
  {
   "cell_type": "code",
   "execution_count": null,
   "metadata": {},
   "outputs": [],
   "source": []
  }
 ],
 "metadata": {
  "kernelspec": {
   "display_name": "Python 3",
   "language": "python",
   "name": "python3"
  },
  "language_info": {
   "codemirror_mode": {
    "name": "ipython",
    "version": 3
   },
   "file_extension": ".py",
   "mimetype": "text/x-python",
   "name": "python",
   "nbconvert_exporter": "python",
   "pygments_lexer": "ipython3",
   "version": "3.7.4"
  }
 },
 "nbformat": 4,
 "nbformat_minor": 2
}
